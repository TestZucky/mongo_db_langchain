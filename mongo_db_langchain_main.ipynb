{
 "cells": [
  {
   "cell_type": "code",
   "execution_count": 1,
   "metadata": {},
   "outputs": [],
   "source": [
    "from langchain_openai import ChatOpenAI\n",
    "from langchain.chains.llm import LLMChain\n",
    "from langchain.prompts import PromptTemplate\n",
    "import json, re, pymongo\n",
    "from config import ConfigData"
   ]
  },
  {
   "cell_type": "code",
   "execution_count": 2,
   "metadata": {},
   "outputs": [],
   "source": [
    "llm_openai = ChatOpenAI(openai_api_key=ConfigData.OPEN_AI_KEY, model='gpt-3.5-turbo-0125')"
   ]
  },
  {
   "cell_type": "code",
   "execution_count": 3,
   "metadata": {},
   "outputs": [],
   "source": [
    "table_schema = ConfigData.TABLE_SCHEMA\n",
    "schema_description = ConfigData.SCHEMA_DESCRIPTION\n",
    "json_ex_1 = ConfigData.FEW_SHOT_EXAMPLE_1"
   ]
  },
  {
   "cell_type": "code",
   "execution_count": 4,
   "metadata": {},
   "outputs": [],
   "source": [
    "json_ex_string = json.dumps(json_ex_1)"
   ]
  },
  {
   "cell_type": "code",
   "execution_count": 5,
   "metadata": {},
   "outputs": [],
   "source": [
    "prompt_template_for_creating_query = \"\"\"\n",
    "    You are an expert in crafting NoSQL queries for MongoDB with 10 years of experience, particularly in MongoDB. \n",
    "    I will provide you with the table_schema and schema_description in a specified format. \n",
    "    Your task is to read the user_question, which will adhere to certain guidelines or formats, and create a NOSQL MongoDb pipeline accordingly.\n",
    "\n",
    "    Table schema:\"\"\" +  table_schema + \"\"\"\n",
    "    Schema Description: \"\"\" + schema_description + \"\"\"\n",
    "\n",
    "    Here are some example:\n",
    "    Input: name of departments where number of employees is greater than 1000\n",
    "    Output: {json_ex_string_1} \n",
    "\n",
    "    Note: You have to just return the query nothing else. Don't return any additional text with the query.\n",
    "    Input: {user_question}\n",
    "    \"\"\"\n",
    "    \n",
    "query_creation_prompt = PromptTemplate(\n",
    "    template=prompt_template_for_creating_query,\n",
    "    input_variables=[\"user_question\", \"json_ex_string_1\"],\n",
    ")"
   ]
  },
  {
   "cell_type": "code",
   "execution_count": 6,
   "metadata": {},
   "outputs": [],
   "source": [
    "llmchain = LLMChain(llm=llm_openai, prompt=query_creation_prompt, verbose=True)"
   ]
  },
  {
   "cell_type": "code",
   "execution_count": 7,
   "metadata": {},
   "outputs": [],
   "source": [
    "def get_query(user_question):\n",
    "    response = llmchain.invoke({\n",
    "        \"user_question\": user_question,\n",
    "        \"json_ex_string_1\": json_ex_string\n",
    "    })\n",
    "\n",
    "    response_text = response['text'].replace(\"Output: \", \"\")\n",
    "    pattern = r'db\\.collectionName\\.aggregate\\(\\s*\\['\n",
    "\n",
    "    output_string = re.sub(pattern, '', response_text)\n",
    "\n",
    "    return json.loads(output_string)"
   ]
  },
  {
   "cell_type": "code",
   "execution_count": 8,
   "metadata": {},
   "outputs": [],
   "source": [
    "client = pymongo.MongoClient(ConfigData.MONGO_DB_URI)\n",
    "db = client[ConfigData.DB_NAME]\n",
    "collection_name = db[ConfigData.COLLECTION_NAME]"
   ]
  },
  {
   "cell_type": "code",
   "execution_count": 9,
   "metadata": {},
   "outputs": [
    {
     "name": "stdout",
     "output_type": "stream",
     "text": [
      "\n",
      "\n",
      "\u001b[1m> Entering new LLMChain chain...\u001b[0m\n",
      "Prompt after formatting:\n",
      "\u001b[32;1m\u001b[1;3m\n",
      "    You are an expert in crafting NoSQL queries for MongoDB with 10 years of experience, particularly in MongoDB. \n",
      "    I will provide you with the table_schema and schema_description in a specified format. \n",
      "    Your task is to read the user_question, which will adhere to certain guidelines or formats, and create a NOSQL MongoDb pipeline accordingly.\n",
      "\n",
      "    Table schema:\n",
      "                    \"_id\": \"string\",\n",
      "                    \"name\": \"string\",\n",
      "                    \"industry\": \"string\",\n",
      "                    \"founded_year\": \"string\",\n",
      "                    \"employees\": \"string\",\n",
      "                    \"hq_location\": \"string\",\n",
      "                    \"products\": \"array of strings\",\n",
      "                    \"revenue\": \"string\",\n",
      "                    \"ceo\": \n",
      "                        \"name\": \"string\",\n",
      "                        \"age\": \"string\",\n",
      "                        \"email\": \"string\"\n",
      "                    ,\n",
      "                    \"departments\": [\n",
      "                        \"name\": \"string\",\n",
      "                        \"employees\": \"string\",\n",
      "                        \"manager\": \n",
      "                            \"name\": \"string\",\n",
      "                            \"email\": \"string\"\n",
      "                    ]\n",
      "                    \n",
      "    Schema Description: \n",
      "\n",
      "                    Here is the description to determine what each key represents:\n",
      "                    1. _id:\n",
      "                        - Description: Unique identifier for the document.\n",
      "                    2. name:\n",
      "                        - Description: Name of the company.\n",
      "                    3. industry:\n",
      "                        - Description: Industry in which the company operates.\n",
      "                    4. founded_year:\n",
      "                        - Description: Year in which the company was founded.\n",
      "                    5. employees:\n",
      "                        - Description: Total number of employees.\n",
      "                    6. hq_location:\n",
      "                        - Description: Headquarters location of the company.\n",
      "                    7. products:\n",
      "                        - Description: List of products offered by the company.\n",
      "                        - Data Type: Array of strings\n",
      "                    8. revenue:\n",
      "                        - Description: Revenue generated by the company (in a specific currency).\n",
      "                    9. ceo:\n",
      "                        - Description: Information about the CEO.\n",
      "                        - Fields:\n",
      "                        - name:\n",
      "                            - Description: Name of the CEO.\n",
      "                        - age:\n",
      "                            - Description: Age of the CEO.\n",
      "                        - email:\n",
      "                            - Description: Email address of the CEO.\n",
      "                    10. departments:\n",
      "                        - Description: Information about various departments within the company.\n",
      "                        - Data Type: Array of Embedded Documents\n",
      "                        - Fields:\n",
      "                        - name:\n",
      "                            - Description: Name of the department.\n",
      "                        - employees:\n",
      "                            - Description: Total number of employees in the department.\n",
      "                        - manager:\n",
      "                            - Description: Information about the department manager.\n",
      "                            - Fields:\n",
      "                            - name:\n",
      "                                - Description: Name of the department manager.\n",
      "                            - email:\n",
      "                                - Description: Email address of the department manager.\n",
      "\n",
      "                    \n",
      "\n",
      "    Here are some example:\n",
      "    Input: name of departments where number of employees is greater than 1000\n",
      "    Output: [{\"$match\": {\"departments.employees\": {\"$gt\": 1000}}}, {\"$project\": {\"departments\": {\"$filter\": {\"input\": \"$departments\", \"as\": \"dept\", \"cond\": {\"$gt\": [\"$$dept.employees\", 1000]}}}}}] \n",
      "\n",
      "    Note: You have to just return the query nothing else. Don't return any additional text with the query.\n",
      "    Input: when InnovateTech Solutions founded?\n",
      "    \u001b[0m\n",
      "\n",
      "\u001b[1m> Finished chain.\u001b[0m\n"
     ]
    }
   ],
   "source": [
    "query_1 = get_query(user_question=\"when InnovateTech Solutions founded?\")"
   ]
  },
  {
   "cell_type": "code",
   "execution_count": 10,
   "metadata": {},
   "outputs": [
    {
     "name": "stdout",
     "output_type": "stream",
     "text": [
      "{'_id': ObjectId('66165f917b226d174b553af4'), 'founded_year': 2008}\n"
     ]
    }
   ],
   "source": [
    "pipeline = query_1\n",
    "result = collection_name.aggregate(pipeline)\n",
    "for doc in result:\n",
    "    print(doc)"
   ]
  }
 ],
 "metadata": {
  "kernelspec": {
   "display_name": "Python 3",
   "language": "python",
   "name": "python3"
  },
  "language_info": {
   "codemirror_mode": {
    "name": "ipython",
    "version": 3
   },
   "file_extension": ".py",
   "mimetype": "text/x-python",
   "name": "python",
   "nbconvert_exporter": "python",
   "pygments_lexer": "ipython3",
   "version": "3.11.4"
  }
 },
 "nbformat": 4,
 "nbformat_minor": 2
}
